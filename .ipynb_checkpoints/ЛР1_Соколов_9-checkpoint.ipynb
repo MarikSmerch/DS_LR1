{
 "cells": [
  {
   "cell_type": "markdown",
   "metadata": {
    "id": "bri_pAriNFqN"
   },
   "source": [
    "**Цель работы:**\n",
    "\n",
    "Осуществить предварительную обработку данных csv-файла, выявить и устранить проблемы в этих данных."
   ]
  },
  {
   "cell_type": "markdown",
   "metadata": {
    "id": "eeq9ZAbSguQS"
   },
   "source": [
    "### Вариант задания"
   ]
  },
  {
   "cell_type": "markdown",
   "metadata": {
    "id": "XHbH8zNIg0Ib"
   },
   "source": [
    "Вариант № 9\n",
    "\n",
    "Набор данных: auto.csv\n",
    "\n",
    "Атрибуты:\n",
    "1. имя\n",
    "2. год\n",
    "3. цена продажи\n",
    "4. пройдено км\n",
    "5. топливо\n",
    "6. тип продавца\n",
    "7. коробка передач\n",
    "8. тип владельца "
   ]
  },
  {
   "cell_type": "markdown",
   "metadata": {
    "id": "Lwin9ia7hT1i"
   },
   "source": [
    "### 1.Чтение файла (набора данных)\n",
    "Перед началом работы необходимо прочитать таблицу и преобразовать в датафрейм. Для этого была подключена библиотека Pandas, с помощью которой воспроизводилось чтение файла."
   ]
  },
  {
   "cell_type": "code",
   "execution_count": 151,
   "metadata": {
    "id": "a5dYQO5YhOYa"
   },
   "outputs": [],
   "source": [
    "import pandas as pd # импорт библиотеки\n",
    "df = pd.read_csv('./auto.csv') # чтение таблицы, где path – путь к файлу"
   ]
  },
  {
   "cell_type": "markdown",
   "metadata": {
    "id": "p82p53SvhjLN"
   },
   "source": [
    "### 2. Обзор данных"
   ]
  },
  {
   "cell_type": "markdown",
   "metadata": {
    "id": "eAYzXaLrh-qh"
   },
   "source": [
    "Далее использовалась кооманда *head()*. С помощью нее выводится первые 20 строчек таблицы."
   ]
  },
  {
   "cell_type": "code",
   "execution_count": 152,
   "metadata": {
    "id": "7yMo3VZ_hotx"
   },
   "outputs": [
    {
     "data": {
      "text/html": [
       "<div>\n",
       "<style scoped>\n",
       "    .dataframe tbody tr th:only-of-type {\n",
       "        vertical-align: middle;\n",
       "    }\n",
       "\n",
       "    .dataframe tbody tr th {\n",
       "        vertical-align: top;\n",
       "    }\n",
       "\n",
       "    .dataframe thead th {\n",
       "        text-align: right;\n",
       "    }\n",
       "</style>\n",
       "<table border=\"1\" class=\"dataframe\">\n",
       "  <thead>\n",
       "    <tr style=\"text-align: right;\">\n",
       "      <th></th>\n",
       "      <th>Name</th>\n",
       "      <th>year</th>\n",
       "      <th>SellingPrice</th>\n",
       "      <th>kmdriven</th>\n",
       "      <th>fuel</th>\n",
       "      <th>seller_Type</th>\n",
       "      <th>transmission</th>\n",
       "      <th>owner</th>\n",
       "    </tr>\n",
       "  </thead>\n",
       "  <tbody>\n",
       "    <tr>\n",
       "      <th>0</th>\n",
       "      <td>Maruti 800 AC</td>\n",
       "      <td>2007</td>\n",
       "      <td>60000.0</td>\n",
       "      <td>70000.0</td>\n",
       "      <td>Petrol</td>\n",
       "      <td>Individual</td>\n",
       "      <td>Manual</td>\n",
       "      <td>First Owner</td>\n",
       "    </tr>\n",
       "    <tr>\n",
       "      <th>1</th>\n",
       "      <td>Maruti Wagon R LXI Minor</td>\n",
       "      <td>2007</td>\n",
       "      <td>135000.0</td>\n",
       "      <td>50000.0</td>\n",
       "      <td>Petrol</td>\n",
       "      <td>Individual</td>\n",
       "      <td>Manual</td>\n",
       "      <td>First Owner</td>\n",
       "    </tr>\n",
       "    <tr>\n",
       "      <th>2</th>\n",
       "      <td>Hyundai Verna 1.6 SX</td>\n",
       "      <td>2012</td>\n",
       "      <td>600000.0</td>\n",
       "      <td>100000.0</td>\n",
       "      <td>Diesel</td>\n",
       "      <td>Individual</td>\n",
       "      <td>Manual</td>\n",
       "      <td>First Owner</td>\n",
       "    </tr>\n",
       "    <tr>\n",
       "      <th>3</th>\n",
       "      <td>Datsun RediGO T Option</td>\n",
       "      <td>2017</td>\n",
       "      <td>250000.0</td>\n",
       "      <td>46000.0</td>\n",
       "      <td>Petrol</td>\n",
       "      <td>Individual</td>\n",
       "      <td>Manual</td>\n",
       "      <td>First Owner</td>\n",
       "    </tr>\n",
       "    <tr>\n",
       "      <th>4</th>\n",
       "      <td>Honda Amaze VX i-DTEC</td>\n",
       "      <td>2014</td>\n",
       "      <td>450000.0</td>\n",
       "      <td>141000.0</td>\n",
       "      <td>Diesel</td>\n",
       "      <td>Individual</td>\n",
       "      <td>Manual</td>\n",
       "      <td>Second Owner</td>\n",
       "    </tr>\n",
       "    <tr>\n",
       "      <th>5</th>\n",
       "      <td>Maruti Alto LX BSIII</td>\n",
       "      <td>2007</td>\n",
       "      <td>140000.0</td>\n",
       "      <td>125000.0</td>\n",
       "      <td>Petrol</td>\n",
       "      <td>Individual</td>\n",
       "      <td>Manual</td>\n",
       "      <td>First Owner</td>\n",
       "    </tr>\n",
       "    <tr>\n",
       "      <th>6</th>\n",
       "      <td>Hyundai Xcent 1.2 Kappa S</td>\n",
       "      <td>2016</td>\n",
       "      <td>550000.0</td>\n",
       "      <td>25000.0</td>\n",
       "      <td>Petrol</td>\n",
       "      <td>Individual</td>\n",
       "      <td>Manual</td>\n",
       "      <td>First Owner</td>\n",
       "    </tr>\n",
       "    <tr>\n",
       "      <th>7</th>\n",
       "      <td>Tata Indigo Grand Petroll</td>\n",
       "      <td>2014</td>\n",
       "      <td>240000.0</td>\n",
       "      <td>60000.0</td>\n",
       "      <td>Petrol</td>\n",
       "      <td>Individual</td>\n",
       "      <td>Manual</td>\n",
       "      <td>Second Owner</td>\n",
       "    </tr>\n",
       "    <tr>\n",
       "      <th>8</th>\n",
       "      <td>Hyundai Creta 1.6 VTVT S</td>\n",
       "      <td>2015</td>\n",
       "      <td>850000.0</td>\n",
       "      <td>25000.0</td>\n",
       "      <td>Petroll</td>\n",
       "      <td>Individual</td>\n",
       "      <td>Manual</td>\n",
       "      <td>First Owner</td>\n",
       "    </tr>\n",
       "    <tr>\n",
       "      <th>9</th>\n",
       "      <td>Maruti Celerio Green VXI</td>\n",
       "      <td>2017</td>\n",
       "      <td>365000.0</td>\n",
       "      <td>78000.0</td>\n",
       "      <td>CNG</td>\n",
       "      <td>Individual</td>\n",
       "      <td>Manual</td>\n",
       "      <td>First Owner</td>\n",
       "    </tr>\n",
       "    <tr>\n",
       "      <th>10</th>\n",
       "      <td>Chevrolet Sail 1.2 Base</td>\n",
       "      <td>2015</td>\n",
       "      <td>260000.0</td>\n",
       "      <td>35000.0</td>\n",
       "      <td>Petrol</td>\n",
       "      <td>Individual</td>\n",
       "      <td>Manual</td>\n",
       "      <td>First Owner</td>\n",
       "    </tr>\n",
       "    <tr>\n",
       "      <th>11</th>\n",
       "      <td>Tata Indigo Grand Petrol</td>\n",
       "      <td>2014</td>\n",
       "      <td>250000.0</td>\n",
       "      <td>100000.0</td>\n",
       "      <td>Petrol</td>\n",
       "      <td>Individual</td>\n",
       "      <td>Manual</td>\n",
       "      <td>First Owner</td>\n",
       "    </tr>\n",
       "    <tr>\n",
       "      <th>12</th>\n",
       "      <td>Toyota Corolla Altis 1.8 VL CVT</td>\n",
       "      <td>2018</td>\n",
       "      <td>1650000.0</td>\n",
       "      <td>25000.0</td>\n",
       "      <td>Petrol</td>\n",
       "      <td>Dealer</td>\n",
       "      <td>Automatic</td>\n",
       "      <td>First Owner</td>\n",
       "    </tr>\n",
       "    <tr>\n",
       "      <th>13</th>\n",
       "      <td>Maruti 800 AC</td>\n",
       "      <td>2007</td>\n",
       "      <td>60000.0</td>\n",
       "      <td>70000.0</td>\n",
       "      <td>Petrol</td>\n",
       "      <td>Individual</td>\n",
       "      <td>Manual</td>\n",
       "      <td>First Owner</td>\n",
       "    </tr>\n",
       "    <tr>\n",
       "      <th>14</th>\n",
       "      <td>Maruti Wagon R LXI Minor</td>\n",
       "      <td>2007</td>\n",
       "      <td>135000.0</td>\n",
       "      <td>50000.0</td>\n",
       "      <td>Petrol</td>\n",
       "      <td>Individual</td>\n",
       "      <td>Manual</td>\n",
       "      <td>First Owner</td>\n",
       "    </tr>\n",
       "    <tr>\n",
       "      <th>15</th>\n",
       "      <td>Hyundai Verna 1.6 SX</td>\n",
       "      <td>2012</td>\n",
       "      <td>600000.0</td>\n",
       "      <td>100000.0</td>\n",
       "      <td>Diesel</td>\n",
       "      <td>Individual</td>\n",
       "      <td>Manual</td>\n",
       "      <td>First Owner</td>\n",
       "    </tr>\n",
       "    <tr>\n",
       "      <th>16</th>\n",
       "      <td>Datsun RediGO T Option</td>\n",
       "      <td>2017</td>\n",
       "      <td>250000.0</td>\n",
       "      <td>46000.0</td>\n",
       "      <td>Petrol</td>\n",
       "      <td>Individual</td>\n",
       "      <td>Manual</td>\n",
       "      <td>First Owner</td>\n",
       "    </tr>\n",
       "    <tr>\n",
       "      <th>17</th>\n",
       "      <td>Honda Amaze VX i-DTEC</td>\n",
       "      <td>2014</td>\n",
       "      <td>450000.0</td>\n",
       "      <td>141000.0</td>\n",
       "      <td>Diesel</td>\n",
       "      <td>Individual</td>\n",
       "      <td>Manual</td>\n",
       "      <td>Second Owner</td>\n",
       "    </tr>\n",
       "    <tr>\n",
       "      <th>18</th>\n",
       "      <td>Maruti Alto LX BSIII</td>\n",
       "      <td>2007</td>\n",
       "      <td>140000.0</td>\n",
       "      <td>125000.0</td>\n",
       "      <td>Petrol</td>\n",
       "      <td>Individual</td>\n",
       "      <td>Manual</td>\n",
       "      <td>First Owner</td>\n",
       "    </tr>\n",
       "    <tr>\n",
       "      <th>19</th>\n",
       "      <td>Hyundai Xcent 1.2 Kappa S</td>\n",
       "      <td>2016</td>\n",
       "      <td>550000.0</td>\n",
       "      <td>25000.0</td>\n",
       "      <td>Petrol</td>\n",
       "      <td>Individual</td>\n",
       "      <td>Manual</td>\n",
       "      <td>First Owner</td>\n",
       "    </tr>\n",
       "  </tbody>\n",
       "</table>\n",
       "</div>"
      ],
      "text/plain": [
       "                               Name  year  SellingPrice  kmdriven     fuel  \\\n",
       "0                     Maruti 800 AC  2007       60000.0   70000.0   Petrol   \n",
       "1          Maruti Wagon R LXI Minor  2007      135000.0   50000.0   Petrol   \n",
       "2              Hyundai Verna 1.6 SX  2012      600000.0  100000.0   Diesel   \n",
       "3            Datsun RediGO T Option  2017      250000.0   46000.0   Petrol   \n",
       "4             Honda Amaze VX i-DTEC  2014      450000.0  141000.0   Diesel   \n",
       "5              Maruti Alto LX BSIII  2007      140000.0  125000.0   Petrol   \n",
       "6         Hyundai Xcent 1.2 Kappa S  2016      550000.0   25000.0   Petrol   \n",
       "7         Tata Indigo Grand Petroll  2014      240000.0   60000.0   Petrol   \n",
       "8          Hyundai Creta 1.6 VTVT S  2015      850000.0   25000.0  Petroll   \n",
       "9          Maruti Celerio Green VXI  2017      365000.0   78000.0      CNG   \n",
       "10          Chevrolet Sail 1.2 Base  2015      260000.0   35000.0   Petrol   \n",
       "11         Tata Indigo Grand Petrol  2014      250000.0  100000.0   Petrol   \n",
       "12  Toyota Corolla Altis 1.8 VL CVT  2018     1650000.0   25000.0   Petrol   \n",
       "13                    Maruti 800 AC  2007       60000.0   70000.0   Petrol   \n",
       "14         Maruti Wagon R LXI Minor  2007      135000.0   50000.0   Petrol   \n",
       "15             Hyundai Verna 1.6 SX  2012      600000.0  100000.0   Diesel   \n",
       "16           Datsun RediGO T Option  2017      250000.0   46000.0   Petrol   \n",
       "17            Honda Amaze VX i-DTEC  2014      450000.0  141000.0   Diesel   \n",
       "18             Maruti Alto LX BSIII  2007      140000.0  125000.0   Petrol   \n",
       "19        Hyundai Xcent 1.2 Kappa S  2016      550000.0   25000.0   Petrol   \n",
       "\n",
       "   seller_Type transmission         owner  \n",
       "0   Individual       Manual   First Owner  \n",
       "1   Individual       Manual   First Owner  \n",
       "2   Individual       Manual   First Owner  \n",
       "3   Individual       Manual   First Owner  \n",
       "4   Individual       Manual  Second Owner  \n",
       "5   Individual       Manual   First Owner  \n",
       "6   Individual       Manual   First Owner  \n",
       "7   Individual       Manual  Second Owner  \n",
       "8   Individual       Manual   First Owner  \n",
       "9   Individual       Manual   First Owner  \n",
       "10  Individual       Manual   First Owner  \n",
       "11  Individual       Manual   First Owner  \n",
       "12      Dealer    Automatic   First Owner  \n",
       "13  Individual       Manual   First Owner  \n",
       "14  Individual       Manual   First Owner  \n",
       "15  Individual       Manual   First Owner  \n",
       "16  Individual       Manual   First Owner  \n",
       "17  Individual       Manual  Second Owner  \n",
       "18  Individual       Manual   First Owner  \n",
       "19  Individual       Manual   First Owner  "
      ]
     },
     "execution_count": 152,
     "metadata": {},
     "output_type": "execute_result"
    }
   ],
   "source": [
    "df.head(20) # Вывод первых 20 строк таблицы"
   ]
  },
  {
   "cell_type": "markdown",
   "metadata": {
    "id": "Ze-lXxLMhpWv"
   },
   "source": [
    "Затем просматривалась основная информация по таблице с помощью команды *info()*. Также был проведен небольшой анализ.\n",
    "В таблице 4344 записи, из них всего 4 пропуска: 2 в SellingPrice, 1 в kmdriven и 1 в fuel. Это говорит о том, что легче подготовить данные для дальнейшей работы, почти не влияет на статистику. 8 атрибутов, которые разделены по типам так: "
   ]
  },
  {
   "cell_type": "code",
   "execution_count": 153,
   "metadata": {
    "id": "bjhngmaLiGM-"
   },
   "outputs": [
    {
     "name": "stdout",
     "output_type": "stream",
     "text": [
      "<class 'pandas.core.frame.DataFrame'>\n",
      "RangeIndex: 4344 entries, 0 to 4343\n",
      "Data columns (total 8 columns):\n",
      " #   Column        Non-Null Count  Dtype  \n",
      "---  ------        --------------  -----  \n",
      " 0   Name          4344 non-null   object \n",
      " 1   year          4344 non-null   int64  \n",
      " 2   SellingPrice  4342 non-null   float64\n",
      " 3   kmdriven      4343 non-null   float64\n",
      " 4   fuel          4343 non-null   object \n",
      " 5   seller_Type   4344 non-null   object \n",
      " 6   transmission  4344 non-null   object \n",
      " 7   owner         4344 non-null   object \n",
      "dtypes: float64(2), int64(1), object(5)\n",
      "memory usage: 271.6+ KB\n"
     ]
    }
   ],
   "source": [
    "df.info() # Просмотр основной информации"
   ]
  },
  {
   "cell_type": "markdown",
   "metadata": {},
   "source": [
    "Также был проведен анализ данных с помощью команды *describe()*. Можно обратить внимание на описательные статистики. Команда выводит: количество, среднее арифметическое, стандартное отклонение, минимальное и максимальное значения и три квартиля. На основе этого можно проанализировать данные. Для примера возьмем признак год. Количество - 4344, среднее арифметическое - 2013.1, стандартное отклонение - 4.2, минимальное значение - 1992, квартель 1(далее будет использоваться буква Q) - 2011, Q2 - 2014, Q3 - 2016 и максимальное значение 2020."
   ]
  },
  {
   "cell_type": "code",
   "execution_count": 154,
   "metadata": {
    "id": "cTVFwzO1jQfN"
   },
   "outputs": [
    {
     "data": {
      "text/html": [
       "<div>\n",
       "<style scoped>\n",
       "    .dataframe tbody tr th:only-of-type {\n",
       "        vertical-align: middle;\n",
       "    }\n",
       "\n",
       "    .dataframe tbody tr th {\n",
       "        vertical-align: top;\n",
       "    }\n",
       "\n",
       "    .dataframe thead th {\n",
       "        text-align: right;\n",
       "    }\n",
       "</style>\n",
       "<table border=\"1\" class=\"dataframe\">\n",
       "  <thead>\n",
       "    <tr style=\"text-align: right;\">\n",
       "      <th></th>\n",
       "      <th>year</th>\n",
       "      <th>SellingPrice</th>\n",
       "      <th>kmdriven</th>\n",
       "    </tr>\n",
       "  </thead>\n",
       "  <tbody>\n",
       "    <tr>\n",
       "      <th>count</th>\n",
       "      <td>4344.000000</td>\n",
       "      <td>4.342000e+03</td>\n",
       "      <td>4343.000000</td>\n",
       "    </tr>\n",
       "    <tr>\n",
       "      <th>mean</th>\n",
       "      <td>2013.092311</td>\n",
       "      <td>5.039987e+05</td>\n",
       "      <td>66193.063320</td>\n",
       "    </tr>\n",
       "    <tr>\n",
       "      <th>std</th>\n",
       "      <td>4.214543</td>\n",
       "      <td>5.784465e+05</td>\n",
       "      <td>46636.648764</td>\n",
       "    </tr>\n",
       "    <tr>\n",
       "      <th>min</th>\n",
       "      <td>1992.000000</td>\n",
       "      <td>2.000000e+04</td>\n",
       "      <td>1.000000</td>\n",
       "    </tr>\n",
       "    <tr>\n",
       "      <th>25%</th>\n",
       "      <td>2011.000000</td>\n",
       "      <td>2.100000e+05</td>\n",
       "      <td>35000.000000</td>\n",
       "    </tr>\n",
       "    <tr>\n",
       "      <th>50%</th>\n",
       "      <td>2014.000000</td>\n",
       "      <td>3.500000e+05</td>\n",
       "      <td>60000.000000</td>\n",
       "    </tr>\n",
       "    <tr>\n",
       "      <th>75%</th>\n",
       "      <td>2016.000000</td>\n",
       "      <td>6.000000e+05</td>\n",
       "      <td>90000.000000</td>\n",
       "    </tr>\n",
       "    <tr>\n",
       "      <th>max</th>\n",
       "      <td>2020.000000</td>\n",
       "      <td>8.900000e+06</td>\n",
       "      <td>806599.000000</td>\n",
       "    </tr>\n",
       "  </tbody>\n",
       "</table>\n",
       "</div>"
      ],
      "text/plain": [
       "              year  SellingPrice       kmdriven\n",
       "count  4344.000000  4.342000e+03    4343.000000\n",
       "mean   2013.092311  5.039987e+05   66193.063320\n",
       "std       4.214543  5.784465e+05   46636.648764\n",
       "min    1992.000000  2.000000e+04       1.000000\n",
       "25%    2011.000000  2.100000e+05   35000.000000\n",
       "50%    2014.000000  3.500000e+05   60000.000000\n",
       "75%    2016.000000  6.000000e+05   90000.000000\n",
       "max    2020.000000  8.900000e+06  806599.000000"
      ]
     },
     "execution_count": 154,
     "metadata": {},
     "output_type": "execute_result"
    }
   ],
   "source": [
    "df.describe() # Описание данных"
   ]
  },
  {
   "cell_type": "markdown",
   "metadata": {
    "id": "JTbo0IGDiHxn"
   },
   "source": [
    "Также была произведена оценка названия столбцов с помощью команды *colums*, чтобы названия были в стиле именования snake_case. Было замечено, что названия Name, SellingPrice и kmdriven не соответсвуют стилю именования. Для изменения названий использовалась все та же команда. "
   ]
  },
  {
   "cell_type": "code",
   "execution_count": 155,
   "metadata": {
    "id": "9NEyi2Odik3e"
   },
   "outputs": [
    {
     "data": {
      "text/plain": [
       "Index(['Name', 'year', 'SellingPrice', 'kmdriven', 'fuel', 'seller_Type',\n",
       "       'transmission', 'owner'],\n",
       "      dtype='object')"
      ]
     },
     "execution_count": 155,
     "metadata": {},
     "output_type": "execute_result"
    }
   ],
   "source": [
    "df.columns # Оценка названий столбцов"
   ]
  },
  {
   "cell_type": "code",
   "execution_count": 156,
   "metadata": {
    "id": "QSJBLl4qjjP8"
   },
   "outputs": [],
   "source": [
    "df.columns = [\n",
    "    \"name\",\n",
    "    \"year\",\n",
    "    \"selling_price\",\n",
    "    \"km_driven\",\n",
    "    \"fuel\",\n",
    "    \"seller_type\",\n",
    "    \"transmission\",\n",
    "    \"owner\"\n",
    "]"
   ]
  },
  {
   "cell_type": "markdown",
   "metadata": {
    "id": "V0tLQcyrjnA_"
   },
   "source": [
    "### 3. Проверка пропусков"
   ]
  },
  {
   "cell_type": "markdown",
   "metadata": {},
   "source": [
    "Далее было просмотрено количество пустых значений. Можно заметить, что данные с 2 пункта совпадают, что имеется всего 4 пропуска. Самый простой вариант - удаление записей с пустыми значениями, так как характер информации не позволит использовать методы по типу медианного. 4 строчки занимают 0.1% данных, что не повлияет на статистику и распределение. "
   ]
  },
  {
   "cell_type": "code",
   "execution_count": 157,
   "metadata": {
    "id": "xuTz-Avjj9AW"
   },
   "outputs": [
    {
     "name": "stdout",
     "output_type": "stream",
     "text": [
      "name             0\n",
      "year             0\n",
      "selling_price    2\n",
      "km_driven        1\n",
      "fuel             1\n",
      "seller_type      0\n",
      "transmission     0\n",
      "owner            0\n",
      "dtype: int64\n"
     ]
    }
   ],
   "source": [
    "print(df.isna().sum()) # Просмотр количества пустых значений"
   ]
  },
  {
   "cell_type": "code",
   "execution_count": 158,
   "metadata": {},
   "outputs": [
    {
     "name": "stdout",
     "output_type": "stream",
     "text": [
      "name             0\n",
      "year             0\n",
      "selling_price    0\n",
      "km_driven        0\n",
      "fuel             0\n",
      "seller_type      0\n",
      "transmission     0\n",
      "owner            0\n",
      "dtype: int64\n",
      "<-------------------------->\n",
      "<class 'pandas.core.frame.DataFrame'>\n",
      "Index: 4342 entries, 0 to 4341\n",
      "Data columns (total 8 columns):\n",
      " #   Column         Non-Null Count  Dtype  \n",
      "---  ------         --------------  -----  \n",
      " 0   name           4342 non-null   object \n",
      " 1   year           4342 non-null   int64  \n",
      " 2   selling_price  4342 non-null   float64\n",
      " 3   km_driven      4342 non-null   float64\n",
      " 4   fuel           4342 non-null   object \n",
      " 5   seller_type    4342 non-null   object \n",
      " 6   transmission   4342 non-null   object \n",
      " 7   owner          4342 non-null   object \n",
      "dtypes: float64(2), int64(1), object(5)\n",
      "memory usage: 305.3+ KB\n"
     ]
    }
   ],
   "source": [
    "df = df.dropna() # Удаление пустых записей\n",
    "print(df.isna().sum())\n",
    "print(\"<-------------------------->\")\n",
    "df.info()"
   ]
  },
  {
   "cell_type": "markdown",
   "metadata": {},
   "source": [
    "Теперь видно, что записей со значнием null было не 4,а 2. И таблица на данный момент не имеет значений null."
   ]
  },
  {
   "cell_type": "markdown",
   "metadata": {
    "id": "kkyrXXHikEXk"
   },
   "source": [
    "### 4. Проверка дубликатов"
   ]
  },
  {
   "cell_type": "markdown",
   "metadata": {
    "id": "ImqHvr3okIQ6"
   },
   "source": [
    "#### Проверка явных дубликатов"
   ]
  },
  {
   "cell_type": "markdown",
   "metadata": {},
   "source": [
    "Далее был проверено, сколько всего явных дубликатов. В результате получили 763 записи, что равняется, почти, 18%."
   ]
  },
  {
   "cell_type": "code",
   "execution_count": 159,
   "metadata": {
    "id": "qu1oh-e5lDZ1"
   },
   "outputs": [
    {
     "name": "stdout",
     "output_type": "stream",
     "text": [
      "763\n"
     ]
    }
   ],
   "source": [
    "print(df.duplicated().sum()) # подсчет количества дубликатов"
   ]
  },
  {
   "cell_type": "markdown",
   "metadata": {},
   "source": [
    "Для избежания искажения статистики и проблем при обучении необходимо удалить дубликаты. "
   ]
  },
  {
   "cell_type": "code",
   "execution_count": 160,
   "metadata": {
    "id": "ntArgvChkK26"
   },
   "outputs": [
    {
     "name": "stdout",
     "output_type": "stream",
     "text": [
      "0\n"
     ]
    }
   ],
   "source": [
    "df = df.drop_duplicates() # удаление дубликатов\n",
    "print(df.duplicated().sum())"
   ]
  },
  {
   "cell_type": "markdown",
   "metadata": {
    "id": "VeHTMcOmkLSw"
   },
   "source": [
    "#### Проверка неявных дубликатов"
   ]
  },
  {
   "cell_type": "markdown",
   "metadata": {},
   "source": [
    "Далее были выведены уникальные значения в стоблцах для исправления ошибок при написании. Было замечено, что совершены ошибки в написании Petrol И Dealer. Также стоит обратить внимание на название машин, они имеют слишком сильное разнообразие, что может негативно сказаться на обучении. Так как сейчас не требуется нормализация названий для марок машин, это не будет выполняться. "
   ]
  },
  {
   "cell_type": "code",
   "execution_count": 161,
   "metadata": {
    "id": "-uOPKHlVlGo8"
   },
   "outputs": [
    {
     "name": "stdout",
     "output_type": "stream",
     "text": [
      "['Maruti 800 AC' 'Maruti Wagon R LXI Minor' 'Hyundai Verna 1.6 SX' ...\n",
      " 'Mahindra Verito 1.5 D6 BSIII'\n",
      " 'Toyota Innova 2.5 VX (Diesel) 8 Seater BS IV'\n",
      " 'Hyundai i20 Magna 1.4 CRDi'] \n",
      " ['Petrol' 'Diesel' 'Petroll' 'CNG' 'LPG' 'Electric'] \n",
      " ['Individual' 'Dealer' 'Dealeer' 'Trustmark Dealer'] \n",
      " ['Manual' 'Automatic'] \n",
      " ['First Owner' 'Second Owner' 'Fourth & Above Owner' 'Third Owner'\n",
      " 'Test Drive Car']\n"
     ]
    }
   ],
   "source": [
    "print(df['name'].unique(), '\\n',\n",
    "      df['fuel'].unique(), '\\n',\n",
    "      df['seller_type'].unique(), '\\n',\n",
    "      df['transmission'].unique(), '\\n',\n",
    "      df['owner'].unique()) # Вывод уникальных значений в столбцах"
   ]
  },
  {
   "cell_type": "markdown",
   "metadata": {},
   "source": [
    "Также для анализа было выведено количество уникальных значений и сколько раз они повторяются. "
   ]
  },
  {
   "cell_type": "code",
   "execution_count": 162,
   "metadata": {
    "id": "89tMFEQ2k_M7"
   },
   "outputs": [
    {
     "name": "stdout",
     "output_type": "stream",
     "text": [
      "fuel\n",
      "Diesel      1800\n",
      "Petrol      1718\n",
      "CNG           37\n",
      "LPG           22\n",
      "Petroll        1\n",
      "Electric       1\n",
      "Name: count, dtype: int64\n",
      "<-------------------------->\n",
      "seller_type\n",
      "Individual          2834\n",
      "Dealer               711\n",
      "Trustmark Dealer      33\n",
      "Dealeer                1\n",
      "Name: count, dtype: int64\n"
     ]
    }
   ],
   "source": [
    "print(df['fuel'].value_counts())\n",
    "print(\"<-------------------------->\")\n",
    "print(df['seller_type'].value_counts())"
   ]
  },
  {
   "cell_type": "markdown",
   "metadata": {},
   "source": [
    "Для исправления названий используется команда *replace()*. Пояснение по коду *df.loc[:, 'fuel']* - выбираем все строки (:) и столбец 'fuel'"
   ]
  },
  {
   "cell_type": "code",
   "execution_count": 163,
   "metadata": {},
   "outputs": [],
   "source": [
    "df.loc[:, 'fuel'] = df['fuel'].replace('Petroll', 'Petrol')\n",
    "df.loc[:, 'seller_type'] = df['seller_type'].replace('Dealeer', 'Dealer')"
   ]
  },
  {
   "cell_type": "code",
   "execution_count": 164,
   "metadata": {},
   "outputs": [
    {
     "name": "stdout",
     "output_type": "stream",
     "text": [
      "fuel\n",
      "Diesel      1800\n",
      "Petrol      1719\n",
      "CNG           37\n",
      "LPG           22\n",
      "Electric       1\n",
      "Name: count, dtype: int64\n",
      "<-------------------------->\n",
      "seller_type\n",
      "Individual          2834\n",
      "Dealer               712\n",
      "Trustmark Dealer      33\n",
      "Name: count, dtype: int64\n",
      "<-------------------------->\n",
      "1\n"
     ]
    }
   ],
   "source": [
    "print(df['fuel'].value_counts())\n",
    "print(\"<-------------------------->\")\n",
    "print(df['seller_type'].value_counts())\n",
    "print(\"<-------------------------->\")\n",
    "print(df.duplicated().sum()) # Проверка на наличие явных дубликатов, после изменений названий"
   ]
  },
  {
   "cell_type": "code",
   "execution_count": 165,
   "metadata": {},
   "outputs": [
    {
     "name": "stdout",
     "output_type": "stream",
     "text": [
      "0\n"
     ]
    }
   ],
   "source": [
    "df = df.drop_duplicates().reset_index()\n",
    "print(df.duplicated().sum())"
   ]
  },
  {
   "cell_type": "markdown",
   "metadata": {},
   "source": [
    "Вывод по этому пункту. Лучше изначально проверить неявные дубликаты, а затем устранять явные дубликаты. "
   ]
  },
  {
   "cell_type": "markdown",
   "metadata": {
    "id": "md9GhfYMlbi7"
   },
   "source": [
    "### 5. Провека типов данных"
   ]
  },
  {
   "cell_type": "markdown",
   "metadata": {},
   "source": [
    "При первичном анализе столбцов было замечено, что имеется 2 типа данных - float64. Посмотрев данные, можно увидеть, что значения в km_driven и selling_price кратны 10, следовательно, все значения округлены и необходимости в типе данных float64 не имеется."
   ]
  },
  {
   "cell_type": "code",
   "execution_count": 166,
   "metadata": {
    "id": "WXhXgu29lop3"
   },
   "outputs": [
    {
     "name": "stdout",
     "output_type": "stream",
     "text": [
      "<class 'pandas.core.frame.DataFrame'>\n",
      "RangeIndex: 3578 entries, 0 to 3577\n",
      "Data columns (total 9 columns):\n",
      " #   Column         Non-Null Count  Dtype \n",
      "---  ------         --------------  ----- \n",
      " 0   index          3578 non-null   int64 \n",
      " 1   name           3578 non-null   object\n",
      " 2   year           3578 non-null   int64 \n",
      " 3   selling_price  3578 non-null   int64 \n",
      " 4   km_driven      3578 non-null   int64 \n",
      " 5   fuel           3578 non-null   object\n",
      " 6   seller_type    3578 non-null   object\n",
      " 7   transmission   3578 non-null   object\n",
      " 8   owner          3578 non-null   object\n",
      "dtypes: int64(4), object(5)\n",
      "memory usage: 251.7+ KB\n"
     ]
    }
   ],
   "source": [
    "df['km_driven'] = df['km_driven'].astype('int')\n",
    "df['selling_price'] = df['selling_price'].astype('int')\n",
    "\n",
    "df.info()"
   ]
  },
  {
   "cell_type": "markdown",
   "metadata": {
    "id": "lzr0SgqlnmHy"
   },
   "source": [
    "### 6. Выполнение индивидуальных заданий"
   ]
  },
  {
   "cell_type": "markdown",
   "metadata": {
    "id": "QG_dbwzfmZoS"
   },
   "source": [
    "#### Задание 1"
   ]
  },
  {
   "cell_type": "markdown",
   "metadata": {
    "id": "CyCKTB4DmciW"
   },
   "source": [
    "Группировка - тип коробки передач (transmission) по количеству разных типов топлива (fuel)."
   ]
  },
  {
   "cell_type": "code",
   "execution_count": 167,
   "metadata": {
    "id": "tp8Bl1gumYlI"
   },
   "outputs": [
    {
     "name": "stdout",
     "output_type": "stream",
     "text": [
      "transmission  fuel    \n",
      "Automatic     Diesel       170\n",
      "              Electric       1\n",
      "              Petrol       141\n",
      "Manual        CNG           37\n",
      "              Diesel      1630\n",
      "              LPG           22\n",
      "              Petrol      1577\n",
      "Name: fuel, dtype: int64\n"
     ]
    }
   ],
   "source": [
    "print(df.groupby(['transmission', 'fuel'])['fuel'].count())"
   ]
  },
  {
   "cell_type": "markdown",
   "metadata": {
    "id": "jLmhNuq0mms3"
   },
   "source": [
    "Преобладает в таблице механический тип коробки передач. Также можно увидеть, что большинство машин заправляется бензином или дизелем. Всего 1 машина - электрокар. 37 машин на компримированноом (сжатом) природном газе и 22 сжиженном нефтяном газе, а также они имеют механический тип коробки передач. "
   ]
  },
  {
   "cell_type": "markdown",
   "metadata": {
    "id": "j0isGCzEne7a"
   },
   "source": [
    "#### Задание 2"
   ]
  },
  {
   "cell_type": "markdown",
   "metadata": {
    "id": "kE2vLBWbne7a"
   },
   "source": [
    "Группировка - тип владельца (owner) по количеству разных коробок передач (transmission). Создать датафрейм. Переименовать столбец с количеством в “сountˮ. Отсортировать по убыванию столбца “countˮ."
   ]
  },
  {
   "cell_type": "code",
   "execution_count": 168,
   "metadata": {
    "id": "ttn78Zaene7a"
   },
   "outputs": [
    {
     "data": {
      "text/html": [
       "<div>\n",
       "<style scoped>\n",
       "    .dataframe tbody tr th:only-of-type {\n",
       "        vertical-align: middle;\n",
       "    }\n",
       "\n",
       "    .dataframe tbody tr th {\n",
       "        vertical-align: top;\n",
       "    }\n",
       "\n",
       "    .dataframe thead th {\n",
       "        text-align: right;\n",
       "    }\n",
       "</style>\n",
       "<table border=\"1\" class=\"dataframe\">\n",
       "  <thead>\n",
       "    <tr style=\"text-align: right;\">\n",
       "      <th></th>\n",
       "      <th>owner</th>\n",
       "      <th>transmission</th>\n",
       "      <th>count</th>\n",
       "    </tr>\n",
       "  </thead>\n",
       "  <tbody>\n",
       "    <tr>\n",
       "      <th>0</th>\n",
       "      <td>First Owner</td>\n",
       "      <td>Manual</td>\n",
       "      <td>1991</td>\n",
       "    </tr>\n",
       "    <tr>\n",
       "      <th>1</th>\n",
       "      <td>Second Owner</td>\n",
       "      <td>Manual</td>\n",
       "      <td>915</td>\n",
       "    </tr>\n",
       "    <tr>\n",
       "      <th>2</th>\n",
       "      <td>Third Owner</td>\n",
       "      <td>Manual</td>\n",
       "      <td>271</td>\n",
       "    </tr>\n",
       "    <tr>\n",
       "      <th>3</th>\n",
       "      <td>First Owner</td>\n",
       "      <td>Automatic</td>\n",
       "      <td>227</td>\n",
       "    </tr>\n",
       "    <tr>\n",
       "      <th>4</th>\n",
       "      <td>Fourth &amp; Above Owner</td>\n",
       "      <td>Manual</td>\n",
       "      <td>73</td>\n",
       "    </tr>\n",
       "    <tr>\n",
       "      <th>5</th>\n",
       "      <td>Second Owner</td>\n",
       "      <td>Automatic</td>\n",
       "      <td>64</td>\n",
       "    </tr>\n",
       "    <tr>\n",
       "      <th>6</th>\n",
       "      <td>Third Owner</td>\n",
       "      <td>Automatic</td>\n",
       "      <td>18</td>\n",
       "    </tr>\n",
       "    <tr>\n",
       "      <th>7</th>\n",
       "      <td>Test Drive Car</td>\n",
       "      <td>Manual</td>\n",
       "      <td>16</td>\n",
       "    </tr>\n",
       "    <tr>\n",
       "      <th>8</th>\n",
       "      <td>Fourth &amp; Above Owner</td>\n",
       "      <td>Automatic</td>\n",
       "      <td>2</td>\n",
       "    </tr>\n",
       "    <tr>\n",
       "      <th>9</th>\n",
       "      <td>Test Drive Car</td>\n",
       "      <td>Automatic</td>\n",
       "      <td>1</td>\n",
       "    </tr>\n",
       "  </tbody>\n",
       "</table>\n",
       "</div>"
      ],
      "text/plain": [
       "                  owner transmission  count\n",
       "0           First Owner       Manual   1991\n",
       "1          Second Owner       Manual    915\n",
       "2           Third Owner       Manual    271\n",
       "3           First Owner    Automatic    227\n",
       "4  Fourth & Above Owner       Manual     73\n",
       "5          Second Owner    Automatic     64\n",
       "6           Third Owner    Automatic     18\n",
       "7        Test Drive Car       Manual     16\n",
       "8  Fourth & Above Owner    Automatic      2\n",
       "9        Test Drive Car    Automatic      1"
      ]
     },
     "execution_count": 168,
     "metadata": {},
     "output_type": "execute_result"
    }
   ],
   "source": [
    "df2 = df.groupby(['owner', 'transmission'])['transmission'].count()\n",
    "df2.sort_values(ascending=False).reset_index(name='count')"
   ]
  },
  {
   "cell_type": "markdown",
   "metadata": {
    "id": "HCyyeAu6ne7a"
   },
   "source": [
    "Можно обратить внимание на тест-драйв машины, их всего 17 штук, из которых 1 на автоматическом типе коробок передач. А также можно увидеть, что преобладающие число машин имеет механический тип коробки передач и владелец является первым, вторым и третьим. "
   ]
  },
  {
   "cell_type": "markdown",
   "metadata": {
    "id": "_3fHGp64nhUJ"
   },
   "source": [
    "#### Задание 3"
   ]
  },
  {
   "cell_type": "markdown",
   "metadata": {
    "id": "_Bc4ehyKnhUJ"
   },
   "source": [
    "Сводная таблица (pivot_table) - средняя стоимость для каждого года year. Отсортировать по убыванию. Округлить до трёх знаков."
   ]
  },
  {
   "cell_type": "code",
   "execution_count": 169,
   "metadata": {
    "id": "siDovPvQnhUJ"
   },
   "outputs": [
    {
     "data": {
      "text/html": [
       "<div>\n",
       "<style scoped>\n",
       "    .dataframe tbody tr th:only-of-type {\n",
       "        vertical-align: middle;\n",
       "    }\n",
       "\n",
       "    .dataframe tbody tr th {\n",
       "        vertical-align: top;\n",
       "    }\n",
       "\n",
       "    .dataframe thead th {\n",
       "        text-align: right;\n",
       "    }\n",
       "</style>\n",
       "<table border=\"1\" class=\"dataframe\">\n",
       "  <thead>\n",
       "    <tr style=\"text-align: right;\">\n",
       "      <th></th>\n",
       "      <th>selling_price</th>\n",
       "    </tr>\n",
       "    <tr>\n",
       "      <th>year</th>\n",
       "      <th></th>\n",
       "    </tr>\n",
       "  </thead>\n",
       "  <tbody>\n",
       "    <tr>\n",
       "      <th>2019</th>\n",
       "      <td>865364.167</td>\n",
       "    </tr>\n",
       "    <tr>\n",
       "      <th>2018</th>\n",
       "      <td>820420.305</td>\n",
       "    </tr>\n",
       "    <tr>\n",
       "      <th>2020</th>\n",
       "      <td>804844.400</td>\n",
       "    </tr>\n",
       "    <tr>\n",
       "      <th>2017</th>\n",
       "      <td>741184.928</td>\n",
       "    </tr>\n",
       "    <tr>\n",
       "      <th>2016</th>\n",
       "      <td>638342.707</td>\n",
       "    </tr>\n",
       "    <tr>\n",
       "      <th>2014</th>\n",
       "      <td>512003.059</td>\n",
       "    </tr>\n",
       "    <tr>\n",
       "      <th>2015</th>\n",
       "      <td>510051.160</td>\n",
       "    </tr>\n",
       "    <tr>\n",
       "      <th>2013</th>\n",
       "      <td>433046.285</td>\n",
       "    </tr>\n",
       "    <tr>\n",
       "      <th>2012</th>\n",
       "      <td>379352.027</td>\n",
       "    </tr>\n",
       "    <tr>\n",
       "      <th>2011</th>\n",
       "      <td>296028.291</td>\n",
       "    </tr>\n",
       "    <tr>\n",
       "      <th>2010</th>\n",
       "      <td>275584.205</td>\n",
       "    </tr>\n",
       "    <tr>\n",
       "      <th>2009</th>\n",
       "      <td>235467.420</td>\n",
       "    </tr>\n",
       "    <tr>\n",
       "      <th>1996</th>\n",
       "      <td>225000.000</td>\n",
       "    </tr>\n",
       "    <tr>\n",
       "      <th>2008</th>\n",
       "      <td>177668.171</td>\n",
       "    </tr>\n",
       "    <tr>\n",
       "      <th>2007</th>\n",
       "      <td>165282.043</td>\n",
       "    </tr>\n",
       "    <tr>\n",
       "      <th>1998</th>\n",
       "      <td>165111.111</td>\n",
       "    </tr>\n",
       "    <tr>\n",
       "      <th>2006</th>\n",
       "      <td>154182.763</td>\n",
       "    </tr>\n",
       "    <tr>\n",
       "      <th>2004</th>\n",
       "      <td>126697.342</td>\n",
       "    </tr>\n",
       "    <tr>\n",
       "      <th>2005</th>\n",
       "      <td>114821.443</td>\n",
       "    </tr>\n",
       "    <tr>\n",
       "      <th>2001</th>\n",
       "      <td>109562.438</td>\n",
       "    </tr>\n",
       "    <tr>\n",
       "      <th>1995</th>\n",
       "      <td>95000.000</td>\n",
       "    </tr>\n",
       "    <tr>\n",
       "      <th>1997</th>\n",
       "      <td>93000.000</td>\n",
       "    </tr>\n",
       "    <tr>\n",
       "      <th>2003</th>\n",
       "      <td>87090.909</td>\n",
       "    </tr>\n",
       "    <tr>\n",
       "      <th>2002</th>\n",
       "      <td>86111.111</td>\n",
       "    </tr>\n",
       "    <tr>\n",
       "      <th>2000</th>\n",
       "      <td>81500.000</td>\n",
       "    </tr>\n",
       "    <tr>\n",
       "      <th>1999</th>\n",
       "      <td>73888.889</td>\n",
       "    </tr>\n",
       "    <tr>\n",
       "      <th>1992</th>\n",
       "      <td>50000.000</td>\n",
       "    </tr>\n",
       "  </tbody>\n",
       "</table>\n",
       "</div>"
      ],
      "text/plain": [
       "      selling_price\n",
       "year               \n",
       "2019     865364.167\n",
       "2018     820420.305\n",
       "2020     804844.400\n",
       "2017     741184.928\n",
       "2016     638342.707\n",
       "2014     512003.059\n",
       "2015     510051.160\n",
       "2013     433046.285\n",
       "2012     379352.027\n",
       "2011     296028.291\n",
       "2010     275584.205\n",
       "2009     235467.420\n",
       "1996     225000.000\n",
       "2008     177668.171\n",
       "2007     165282.043\n",
       "1998     165111.111\n",
       "2006     154182.763\n",
       "2004     126697.342\n",
       "2005     114821.443\n",
       "2001     109562.438\n",
       "1995      95000.000\n",
       "1997      93000.000\n",
       "2003      87090.909\n",
       "2002      86111.111\n",
       "2000      81500.000\n",
       "1999      73888.889\n",
       "1992      50000.000"
      ]
     },
     "execution_count": 169,
     "metadata": {},
     "output_type": "execute_result"
    }
   ],
   "source": [
    "pivot_table = df.pivot_table(index='year', values='selling_price', aggfunc='mean')\n",
    "pivot_table.sort_values(by='selling_price', ascending=False).round(3)"
   ]
  },
  {
   "cell_type": "markdown",
   "metadata": {
    "id": "1-vw8iyUnhUK"
   },
   "source": [
    "Из-за специфики выбранных данных нет обнозначного вывода. В разные промежутки времени - разные цены. Но можно наблюдать тенденцию, что с увеличением года цена возрастает с разными \"прыжками\". Нет линейного возрастания. Вот например, в 1996 средняя стоимость машин была больше, чем в 2008. "
   ]
  },
  {
   "cell_type": "markdown",
   "metadata": {
    "id": "FOlw74xCniNo"
   },
   "source": [
    "#### Задание 4"
   ]
  },
  {
   "cell_type": "markdown",
   "metadata": {
    "id": "4tvYwT25niNq"
   },
   "source": [
    "Сводная таблица (pivot_table) - среднее цена для каждого типа владельца - столбцы и типа продавца - строки. Отсортировать по возрастанию seller_type. Округлить до двух знаков."
   ]
  },
  {
   "cell_type": "code",
   "execution_count": 170,
   "metadata": {
    "id": "TfJ719g6niNq"
   },
   "outputs": [
    {
     "data": {
      "text/html": [
       "<div>\n",
       "<style scoped>\n",
       "    .dataframe tbody tr th:only-of-type {\n",
       "        vertical-align: middle;\n",
       "    }\n",
       "\n",
       "    .dataframe tbody tr th {\n",
       "        vertical-align: top;\n",
       "    }\n",
       "\n",
       "    .dataframe thead th {\n",
       "        text-align: right;\n",
       "    }\n",
       "</style>\n",
       "<table border=\"1\" class=\"dataframe\">\n",
       "  <thead>\n",
       "    <tr style=\"text-align: right;\">\n",
       "      <th>owner</th>\n",
       "      <th>First Owner</th>\n",
       "      <th>Fourth &amp; Above Owner</th>\n",
       "      <th>Second Owner</th>\n",
       "      <th>Test Drive Car</th>\n",
       "      <th>Third Owner</th>\n",
       "    </tr>\n",
       "    <tr>\n",
       "      <th>seller_type</th>\n",
       "      <th></th>\n",
       "      <th></th>\n",
       "      <th></th>\n",
       "      <th></th>\n",
       "      <th></th>\n",
       "    </tr>\n",
       "  </thead>\n",
       "  <tbody>\n",
       "    <tr>\n",
       "      <th>Dealer</th>\n",
       "      <td>679505.08</td>\n",
       "      <td>117499.50</td>\n",
       "      <td>468499.94</td>\n",
       "      <td>954293.94</td>\n",
       "      <td>462333.22</td>\n",
       "    </tr>\n",
       "    <tr>\n",
       "      <th>Individual</th>\n",
       "      <td>518613.33</td>\n",
       "      <td>182958.88</td>\n",
       "      <td>326687.32</td>\n",
       "      <td>NaN</td>\n",
       "      <td>259836.07</td>\n",
       "    </tr>\n",
       "    <tr>\n",
       "      <th>Trustmark Dealer</th>\n",
       "      <td>823709.68</td>\n",
       "      <td>NaN</td>\n",
       "      <td>800000.00</td>\n",
       "      <td>NaN</td>\n",
       "      <td>NaN</td>\n",
       "    </tr>\n",
       "  </tbody>\n",
       "</table>\n",
       "</div>"
      ],
      "text/plain": [
       "owner             First Owner  Fourth & Above Owner  Second Owner  \\\n",
       "seller_type                                                         \n",
       "Dealer              679505.08             117499.50     468499.94   \n",
       "Individual          518613.33             182958.88     326687.32   \n",
       "Trustmark Dealer    823709.68                   NaN     800000.00   \n",
       "\n",
       "owner             Test Drive Car  Third Owner  \n",
       "seller_type                                    \n",
       "Dealer                 954293.94    462333.22  \n",
       "Individual                   NaN    259836.07  \n",
       "Trustmark Dealer             NaN          NaN  "
      ]
     },
     "execution_count": 170,
     "metadata": {},
     "output_type": "execute_result"
    }
   ],
   "source": [
    "pivot_table = df.pivot_table(index='seller_type', columns='owner', values='selling_price', aggfunc='mean')\n",
    "pivot_table.sort_index(ascending=True).round(2)"
   ]
  },
  {
   "cell_type": "markdown",
   "metadata": {
    "id": "yqJqvk5qniNr"
   },
   "source": [
    "На основе полученной таблицы можно сделать вывод, что машины от первых владельцев всегда будут дорогими, чем от вторых, третиьх и так далее, за исключением тест-драйв машин. Она, на удивление стоят довольно дорого, видимо, продаются как новые без владельцев. Также видно, что сертифицированный дилер не продает машины у которых было больше 2х владельцев и цены выше других. В то время, как у частного продавца меньше стоят машины. "
   ]
  },
  {
   "cell_type": "markdown",
   "metadata": {
    "id": "TpnXb6gip3S8"
   },
   "source": [
    "### Вывод"
   ]
  },
  {
   "cell_type": "markdown",
   "metadata": {
    "id": "nqLa096jM1Z8"
   },
   "source": [
    "\n",
    "Во время выполнения данной лабораторной работы были проанализированны данные о машинах, их типы коробок передач, топливе, какой владелец по счету, какой продавец продает и какая цена и пробег. \n",
    "\n",
    "Для анализа и работы с таблицей использовалась библиотека Pandas, которая имеет удобные инструменты для работы с таблицей и информацией. Было изучено несколько методов обработки информации, таких как поиск и удаление явных и неявных дубликатов. Также корректировка типов данных, для дальнейшей работы. \n",
    "\n",
    "Были изучены методы группировки и сортировки, а также создания сводных таблиц.\n"
   ]
  }
 ],
 "metadata": {
  "colab": {
   "provenance": []
  },
  "kernelspec": {
   "display_name": "Python 3 (ipykernel)",
   "language": "python",
   "name": "python3"
  },
  "language_info": {
   "codemirror_mode": {
    "name": "ipython",
    "version": 3
   },
   "file_extension": ".py",
   "mimetype": "text/x-python",
   "name": "python",
   "nbconvert_exporter": "python",
   "pygments_lexer": "ipython3",
   "version": "3.13.5"
  }
 },
 "nbformat": 4,
 "nbformat_minor": 4
}
